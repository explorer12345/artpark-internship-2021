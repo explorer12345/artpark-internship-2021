{
 "metadata": {
  "language_info": {
   "codemirror_mode": {
    "name": "ipython",
    "version": 3
   },
   "file_extension": ".py",
   "mimetype": "text/x-python",
   "name": "python",
   "nbconvert_exporter": "python",
   "pygments_lexer": "ipython3",
   "version": "3.7.5"
  },
  "orig_nbformat": 2,
  "kernelspec": {
   "name": "python3",
   "display_name": "Python 3.7.5 64-bit",
   "metadata": {
    "interpreter": {
     "hash": "fd69f43f58546b570e94fd7eba7b65e6bcc7a5bbc4eab0408017d18902915d69"
    }
   }
  }
 },
 "nbformat": 4,
 "nbformat_minor": 2,
 "cells": [
  {
   "cell_type": "code",
   "execution_count": 1,
   "metadata": {},
   "outputs": [
    {
     "output_type": "execute_result",
     "data": {
      "text/plain": [
       "'3.7.5 (default, Feb 23 2021, 13:22:40) \\n[GCC 8.4.0]'"
      ]
     },
     "metadata": {},
     "execution_count": 1
    }
   ],
   "source": [
    "import sys\n",
    "sys.version\n"
   ]
  },
  {
   "cell_type": "code",
   "execution_count": 2,
   "metadata": {},
   "outputs": [],
   "source": [
    "import numpy as np\n",
    "import matplotlib.pyplot as plt\n",
    "import g2o"
   ]
  },
  {
   "cell_type": "code",
   "execution_count": 3,
   "metadata": {},
   "outputs": [],
   "source": [
    "# class PoseGraphOptimization(g2o.SparseOptimizer):\n",
    "#     def __init__(self):\n",
    "#         super().__init__()\n",
    "#         solver = g2o.BlockSolverSE3(g2o.LinearSolverCholmodSE3())\n",
    "#         solver = g2o.OptimizationAlgorithmLevenberg(solver)\n",
    "#         super().set_algorithm(solver)\n",
    "\n",
    "#     def optimize(self, max_iterations=20):\n",
    "#         super().initialize_optimization()\n",
    "#         super().optimize(max_iterations)\n",
    "\n",
    "#     def add_vertex(self, id, pose, fixed=False):\n",
    "#         v_se3 = g2o.VertexSE3()\n",
    "#         v_se3.set_id(id)\n",
    "#         v_se3.set_estimate(pose)\n",
    "#         v_se3.set_fixed(fixed)\n",
    "#         super().add_vertex(v_se3)\n",
    "\n",
    "#     def add_edge(self, vertices, measurement, \n",
    "#             information=np.identity(6),\n",
    "#             robust_kernel=None):\n",
    "\n",
    "#         edge = g2o.EdgeSE3()\n",
    "#         for i, v in enumerate(vertices):\n",
    "#             if isinstance(v, int):\n",
    "#                 v = self.vertex(v)\n",
    "#             edge.set_vertex(i, v)\n",
    "\n",
    "#         edge.set_measurement(measurement)  # relative pose\n",
    "#         edge.set_information(information)\n",
    "#         if robust_kernel is not None:\n",
    "#             edge.set_robust_kernel(robust_kernel)\n",
    "#         super().add_edge(edge)\n",
    "\n",
    "#     def get_pose(self, id):\n",
    "#         return self.vertex(id).estimate()"
   ]
  },
  {
   "cell_type": "code",
   "execution_count": 3,
   "metadata": {},
   "outputs": [],
   "source": [
    "class PoseGraphOptimization(g2o.SparseOptimizer):\n",
    "    def __init__(self):\n",
    "        super().__init__()\n",
    "        solver = g2o.BlockSolverSE2(g2o.LinearSolverCholmodSE2())\n",
    "        solver = g2o.OptimizationAlgorithmLevenberg(solver)\n",
    "        super().set_algorithm(solver)\n",
    "\n",
    "    def optimize(self, max_iterations=20):\n",
    "        super().initialize_optimization()\n",
    "        super().optimize(max_iterations)\n",
    "\n",
    "    def add_vertex(self, id, pose, fixed=False):\n",
    "        v_se2 = g2o.VertexSE2()\n",
    "        v_se2.set_id(id)\n",
    "        v_se2.set_estimate(pose)\n",
    "        v_se2.set_fixed(fixed)\n",
    "        super().add_vertex(v_se2)\n",
    "\n",
    "    def add_edge(self, vertices, measurement, \n",
    "            information=np.identity(3),\n",
    "            robust_kernel=None):\n",
    "\n",
    "        edge = g2o.EdgeSE2()\n",
    "        for i, v in enumerate(vertices):\n",
    "            if isinstance(v, int):\n",
    "                v = self.vertex(v)\n",
    "            edge.set_vertex(i, v)\n",
    "\n",
    "        edge.set_measurement(measurement)\n",
    "        edge.set_information(information)\n",
    "        if robust_kernel is not None:\n",
    "            edge.set_robust_kernel(robust_kernel)\n",
    "        super().add_edge(edge)\n",
    "\n",
    "    def get_pose(self, id):\n",
    "        return self.vertex(id).estimate()"
   ]
  },
  {
   "cell_type": "code",
   "execution_count": 5,
   "metadata": {},
   "outputs": [],
   "source": [
    "gt = np.array([[0, 0, 0],\n",
    "               [1, 0, 0],\n",
    "               [2, 0, 0],\n",
    "               [3, 0, 0],\n",
    "               [4, 0, 0],\n",
    "               [5, 0, 0],\n",
    "               [5, 0, 0.25],\n",
    "               [5, 0, 0.5],\n",
    "               [5, 0, 0.75],\n",
    "               [5, 0, 1.0],\n",
    "               [5, 0, 1.25],\n",
    "               [5, 0, 1.5],\n",
    "               [5, 0, 1.75],\n",
    "               [5, 0, 2.0],\n",
    "               [5, 0, 2.25],\n",
    "               [5, 0, 2.5],\n",
    "               [5, 0, 2.75],\n",
    "               [5, 0, 3.0],\n",
    "               [5, 0, np.pi],\n",
    "               [4, 0, np.pi],\n",
    "               [3, 0, np.pi],\n",
    "               [2, 0, np.pi],\n",
    "               [1, 0, np.pi],\n",
    "               [0, 0, np.pi]\n",
    "              ])\n",
    "\n",
    "icp_poses = np.array([[0, 0, 0],\n",
    "               [0.97, 0, 0.03],\n",
    "               [2.026,0,  0],\n",
    "               [3.11, 0, 0.07],\n",
    "               [4.11, 0, 0],\n",
    "               [5.11, 0, 0.05],\n",
    "               [5.11, 0, 0.25],\n",
    "               [5.11, 0, 0.5],\n",
    "               [5.11, 0, 0.8],\n",
    "               [5.11, 0, 1.05],\n",
    "               [5.11, 0, 1.25],\n",
    "               [5.11, 0, 1.55],\n",
    "               [5.11, 0, 1.7],\n",
    "               [5.11, 0, 2.01],\n",
    "               [5.11, 0, 2.2],\n",
    "               [5.11, 0, 2.5],\n",
    "               [5.11, 0, 2.75],\n",
    "               [5.11, 0, 3.05],\n",
    "               [5.11, 0, np.pi],\n",
    "               [4.13, 0, np.pi],\n",
    "               [2.998,0,  np.pi],\n",
    "               [1.86, 0, np.pi],\n",
    "               [0.81, 0, np.pi],\n",
    "               [-0.29,0,  np.pi]\n",
    "              ])\n",
    "\n",
    "# odo_constraints = np.array([[0.84, 0.0, 0.0],\n",
    "#                             [0.79, 0.0, 0.0], \n",
    "#                             [0.95, 0.0, 0.0], \n",
    "#                             [0.97, 0.0, 0.0], \n",
    "#                             [0.95, 0.0, 0.0],     \n",
    "#                            [0, 0, 0.25],\n",
    "#                            [0, 0, 0.25],\n",
    "#                            [0, 0, 0.25],\n",
    "#                            [0, 0, 0.25],\n",
    "#                            [0, 0, 0.25],\n",
    "#                            [0, 0, 0.25],\n",
    "#                            [0, 0, 0.25],\n",
    "#                            [0, 0, 0.25],\n",
    "#                            [0, 0, 0.25],\n",
    "#                            [0, 0, 0.25],\n",
    "#                            [0, 0, 0.25],\n",
    "#                            [0, 0, 0.25],\n",
    "#                             [0, 0, 0.14],      \n",
    "#                             [0.99, 0.0, 0.0], \n",
    "#                             [0.83, 0.0, 0.0],  \n",
    "#                             [0.98, 0.0, 0.0], \n",
    "#                             [0.85, 0.0, 0.0],\n",
    "#                             [0.96, 0.0, 0.0]])\n",
    "\n",
    "odo_constraints = np.array([[1.3, 0.0, 0.01],\n",
    "                            [0.9, 0.0, 0.02], \n",
    "                            [0.95, 0.0, -0.02], \n",
    "                            [0.97, 0.0, 0.01], \n",
    "                            [0.95, 0.0, -0.03],     \n",
    "                           [0, 0, 0.25],\n",
    "                           [0, 0, 0.25],\n",
    "                           [0, 0, 0.25],\n",
    "                           [0, 0, 0.25],\n",
    "                           [0, 0, 0.25],\n",
    "                           [0, 0, 0.25],\n",
    "                           [0, 0, 0.25],\n",
    "                           [0, 0, 0.25],\n",
    "                           [0, 0, 0.25],\n",
    "                           [0, 0, 0.25],\n",
    "                           [0, 0, 0.25],\n",
    "                           [0, 0, 0.25],\n",
    "                            [0, 0, 0.14],      \n",
    "                            [0.99, 0.0, 0.0], \n",
    "                            [0.83, 0.0, 0.0],  \n",
    "                            [0.98, 0.0, 0.0], \n",
    "                            [0.85, 0.0, 0.0],\n",
    "                            [0.96, 0.0, 0.0]])"
   ]
  },
  {
   "cell_type": "code",
   "execution_count": 6,
   "metadata": {},
   "outputs": [],
   "source": [
    "def to_hcpose(pose):\n",
    "    x, y, yaw = pose[0], pose[1], pose[2]\n",
    "    hc_pose = np.array([[np.cos(yaw), -np.sin(yaw), x],\n",
    "                       [np.sin(yaw), np.cos(yaw), y],\n",
    "                       [0, 0, 1]])\n",
    "    return hc_pose"
   ]
  },
  {
   "cell_type": "code",
   "execution_count": 14,
   "metadata": {},
   "outputs": [],
   "source": [
    "optimizer = PoseGraphOptimization()\n",
    "pose = icp_poses[0]\n",
    "vertex_idx = 1\n",
    "optimizer.add_vertex(0, g2o.SE2(g2o.Isometry2d(to_hcpose(pose))), True)\n",
    "information = np.linalg.inv(0.01*np.eye(3))\n",
    "rk = g2o.RobustKernelDCS()\n",
    "for pose, meas in zip(icp_poses[1:], odo_constraints):\n",
    "    optimizer.add_vertex(vertex_idx, g2o.SE2(g2o.Isometry2d(to_hcpose(pose))))\n",
    "    optimizer.add_edge([vertex_idx-1, vertex_idx],g2o.SE2(g2o.Isometry2d(to_hcpose(meas))),information, robust_kernel=rk)\n",
    "    vertex_idx += 1\n",
    "optimizer.add_edge([vertex_idx-1, 0], g2o.SE2(g2o.Isometry2d(to_hcpose(np.array([0, 0, np.pi])))), information, robust_kernel=rk)\n",
    "\n",
    "optimizer.add_edge([vertex_idx-2, 1], g2o.SE2(g2o.Isometry2d(to_hcpose(np.array([0, 0, np.pi])))), information, robust_kernel=rk)\n",
    "optimizer.add_edge([vertex_idx-3, 2], g2o.SE2(g2o.Isometry2d(to_hcpose(np.array([0, 0, np.pi])))), information, robust_kernel=rk)\n",
    "optimizer.add_edge([vertex_idx-4, 3], g2o.SE2(g2o.Isometry2d(to_hcpose(np.array([0, 0, np.pi])))), information, robust_kernel=rk)\n",
    "optimizer.add_edge([vertex_idx-5, 4], g2o.SE2(g2o.Isometry2d(to_hcpose(np.array([0, 0, np.pi])))), information, robust_kernel=rk)\n",
    "optimizer.optimize()\n",
    "poses = np.array([optimizer.get_pose(idx).to_vector() for idx in range(vertex_idx)])"
   ]
  },
  {
   "cell_type": "code",
   "execution_count": 15,
   "metadata": {},
   "outputs": [
    {
     "output_type": "stream",
     "name": "stdout",
     "text": [
      "[0.59319474 0.         0.15297059]\n[ 1.28918995  0.0434866  15.38639222]\n"
     ]
    }
   ],
   "source": [
    "print(np.linalg.norm(icp_poses - gt, axis=0))\n",
    "print(np.linalg.norm(poses - gt, axis=0))"
   ]
  },
  {
   "cell_type": "code",
   "execution_count": 16,
   "metadata": {},
   "outputs": [
    {
     "output_type": "execute_result",
     "data": {
      "text/plain": [
       "array([[ 0.00000000e+00,  0.00000000e+00,  0.00000000e+00],\n",
       "       [ 9.72138160e-01,  1.60571102e-03, -2.92273176e-03],\n",
       "       [ 1.85585473e+00,  1.19077718e-04,  1.21684467e-02],\n",
       "       [ 2.80014359e+00,  9.71976402e-03, -3.31441294e-03],\n",
       "       [ 3.73378599e+00,  7.26639938e-03,  5.41122698e-03],\n",
       "       [ 4.68400091e+00,  1.21788645e-02, -2.26661297e-02],\n",
       "       [ 4.68422975e+00,  1.19506892e-02,  2.29256514e-01],\n",
       "       [ 4.68445858e+00,  1.17225138e-02,  4.81179157e-01],\n",
       "       [ 4.68468742e+00,  1.14943384e-02,  7.33101800e-01],\n",
       "       [ 4.68491626e+00,  1.12661630e-02,  9.85024444e-01],\n",
       "       [ 4.68514509e+00,  1.10379876e-02,  1.23694709e+00],\n",
       "       [ 4.68537393e+00,  1.08098122e-02,  1.48886973e+00],\n",
       "       [ 4.68560276e+00,  1.05816369e-02,  1.74079237e+00],\n",
       "       [ 4.68583160e+00,  1.03534615e-02,  1.99271502e+00],\n",
       "       [ 4.68606043e+00,  1.01252861e-02,  2.24463766e+00],\n",
       "       [ 4.68628927e+00,  9.89711070e-03,  2.49656030e+00],\n",
       "       [ 4.68651810e+00,  9.66893531e-03,  2.74848295e+00],\n",
       "       [ 4.68674694e+00,  9.44075993e-03,  3.00040559e+00],\n",
       "       [ 4.68697577e+00,  9.21258454e-03, -3.14085707e+00],\n",
       "       [ 3.69720488e+00,  8.25618479e-03, -3.13916049e+00],\n",
       "       [ 2.83085506e+00,  6.99910121e-03, -3.13973745e+00],\n",
       "       [ 1.84521594e+00,  3.22195205e-03, -3.13705441e+00],\n",
       "       [ 9.78945104e-01,  5.08281985e-04, -3.14096654e+00],\n",
       "       [ 9.47264616e-03, -4.63925059e-05, -3.14127960e+00]])"
      ]
     },
     "metadata": {},
     "execution_count": 16
    }
   ],
   "source": [
    "poses"
   ]
  },
  {
   "cell_type": "code",
   "execution_count": 17,
   "metadata": {},
   "outputs": [],
   "source": [
    "%matplotlib inline"
   ]
  },
  {
   "cell_type": "code",
   "execution_count": 18,
   "metadata": {},
   "outputs": [
    {
     "output_type": "stream",
     "name": "stderr",
     "text": [
      "/home/prathu/.local/lib/python3.7/site-packages/ipykernel_launcher.py:3: MatplotlibDeprecationWarning: Adding an axes using the same arguments as a previous axes currently reuses the earlier instance.  In a future version, a new instance will always be created and returned.  Meanwhile, this warning can be suppressed, and the future behavior ensured, by passing a unique label to each axes instance.\n",
      "  This is separate from the ipykernel package so we can avoid doing imports until\n",
      "0.0 0.0\n",
      "0.9721381604262379 0.0016057110180924808\n",
      "1.8558547264675234 0.00011907771793065699\n",
      "2.8001435892017614 0.009719764024867118\n",
      "3.733785987331501 0.007266399380311296\n",
      "4.684000914136019 0.01217886454314545\n",
      "4.684229749560898 0.011950689158519538\n",
      "4.684458584985777 0.01172251377389364\n",
      "4.684687420410657 0.011494338389267434\n",
      "4.684916255835535 0.011266163004641224\n",
      "4.685145091260415 0.011037987620015925\n",
      "4.685373926685294 0.01080981223538993\n",
      "4.6856027621101735 0.010581636850764017\n",
      "4.685831597535053 0.010353461466138197\n",
      "4.686060432959933 0.010125286081512749\n",
      "4.6862892683848125 0.009897110696886549\n",
      "4.686518103809692 0.009668935312260709\n",
      "4.686746939234571 0.009440759927634457\n",
      "4.686975774659451 0.009212584543008441\n",
      "3.697204877918068 0.008256184789874856\n",
      "2.8308550588270465 0.006999101208608312\n",
      "1.8452159409317637 0.0032219520481094723\n",
      "0.9789451041610158 0.0005082819851167309\n",
      "0.009472646164250134 -4.639250587334288e-05\n"
     ]
    },
    {
     "output_type": "display_data",
     "data": {
      "text/plain": "<Figure size 432x288 with 1 Axes>",
      "image/svg+xml": "<?xml version=\"1.0\" encoding=\"utf-8\" standalone=\"no\"?>\n<!DOCTYPE svg PUBLIC \"-//W3C//DTD SVG 1.1//EN\"\n  \"http://www.w3.org/Graphics/SVG/1.1/DTD/svg11.dtd\">\n<!-- Created with matplotlib (https://matplotlib.org/) -->\n<svg height=\"248.518125pt\" version=\"1.1\" viewBox=\"0 0 380.482813 248.518125\" width=\"380.482813pt\" xmlns=\"http://www.w3.org/2000/svg\" xmlns:xlink=\"http://www.w3.org/1999/xlink\">\n <metadata>\n  <rdf:RDF xmlns:cc=\"http://creativecommons.org/ns#\" xmlns:dc=\"http://purl.org/dc/elements/1.1/\" xmlns:rdf=\"http://www.w3.org/1999/02/22-rdf-syntax-ns#\">\n   <cc:Work>\n    <dc:type rdf:resource=\"http://purl.org/dc/dcmitype/StillImage\"/>\n    <dc:date>2021-07-20T07:13:58.744912</dc:date>\n    <dc:format>image/svg+xml</dc:format>\n    <dc:creator>\n     <cc:Agent>\n      <dc:title>Matplotlib v3.3.4, https://matplotlib.org/</dc:title>\n     </cc:Agent>\n    </dc:creator>\n   </cc:Work>\n  </rdf:RDF>\n </metadata>\n <defs>\n  <style type=\"text/css\">*{stroke-linecap:butt;stroke-linejoin:round;}</style>\n </defs>\n <g id=\"figure_1\">\n  <g id=\"patch_1\">\n   <path d=\"M -0 248.518125 \nL 380.482813 248.518125 \nL 380.482813 0 \nL -0 0 \nz\n\" style=\"fill:none;\"/>\n  </g>\n  <g id=\"axes_1\">\n   <g id=\"patch_2\">\n    <path d=\"M 38.482813 224.64 \nL 373.282813 224.64 \nL 373.282813 7.2 \nL 38.482813 7.2 \nz\n\" style=\"fill:#ffffff;\"/>\n   </g>\n   <g id=\"PathCollection_1\">\n    <defs>\n     <path d=\"M 0 1.224745 \nC 0.324806 1.224745 0.636353 1.095698 0.866025 0.866025 \nC 1.095698 0.636353 1.224745 0.324806 1.224745 0 \nC 1.224745 -0.324806 1.095698 -0.636353 0.866025 -0.866025 \nC 0.636353 -1.095698 0.324806 -1.224745 0 -1.224745 \nC -0.324806 -1.224745 -0.636353 -1.095698 -0.866025 -0.866025 \nC -1.095698 -0.636353 -1.224745 -0.324806 -1.224745 0 \nC -1.224745 0.324806 -1.095698 0.636353 -0.866025 0.866025 \nC -0.636353 1.095698 -0.324806 1.224745 0 1.224745 \nz\n\" id=\"m1c3d8cf265\" style=\"stroke:#ff0000;\"/>\n    </defs>\n    <g clip-path=\"url(#pab969ccf3c)\">\n     <use style=\"fill:#ff0000;stroke:#ff0000;\" x=\"53.700994\" xlink:href=\"#m1c3d8cf265\" y=\"116.289268\"/>\n    </g>\n   </g>\n   <g id=\"PathCollection_2\">\n    <g clip-path=\"url(#pab969ccf3c)\">\n     <use style=\"fill:#ff0000;stroke:#ff0000;\" x=\"112.877695\" xlink:href=\"#m1c3d8cf265\" y=\"116.191524\"/>\n    </g>\n   </g>\n   <g id=\"PathCollection_3\">\n    <g clip-path=\"url(#pab969ccf3c)\">\n     <use style=\"fill:#ff0000;stroke:#ff0000;\" x=\"166.671933\" xlink:href=\"#m1c3d8cf265\" y=\"116.28202\"/>\n    </g>\n   </g>\n   <g id=\"PathCollection_4\">\n    <g clip-path=\"url(#pab969ccf3c)\">\n     <use style=\"fill:#ff0000;stroke:#ff0000;\" x=\"224.153371\" xlink:href=\"#m1c3d8cf265\" y=\"115.6976\"/>\n    </g>\n   </g>\n   <g id=\"PathCollection_5\">\n    <g clip-path=\"url(#pab969ccf3c)\">\n     <use style=\"fill:#ff0000;stroke:#ff0000;\" x=\"280.98673\" xlink:href=\"#m1c3d8cf265\" y=\"115.846943\"/>\n    </g>\n   </g>\n   <g id=\"PathCollection_6\">\n    <g clip-path=\"url(#pab969ccf3c)\">\n     <use style=\"fill:#ff0000;stroke:#ff0000;\" x=\"338.828905\" xlink:href=\"#m1c3d8cf265\" y=\"115.547908\"/>\n    </g>\n   </g>\n   <g id=\"PathCollection_7\">\n    <g clip-path=\"url(#pab969ccf3c)\">\n     <use style=\"fill:#ff0000;stroke:#ff0000;\" x=\"338.842834\" xlink:href=\"#m1c3d8cf265\" y=\"115.561797\"/>\n    </g>\n   </g>\n   <g id=\"PathCollection_8\">\n    <g clip-path=\"url(#pab969ccf3c)\">\n     <use style=\"fill:#ff0000;stroke:#ff0000;\" x=\"338.856764\" xlink:href=\"#m1c3d8cf265\" y=\"115.575687\"/>\n    </g>\n   </g>\n   <g id=\"PathCollection_9\">\n    <g clip-path=\"url(#pab969ccf3c)\">\n     <use style=\"fill:#ff0000;stroke:#ff0000;\" x=\"338.870694\" xlink:href=\"#m1c3d8cf265\" y=\"115.589577\"/>\n    </g>\n   </g>\n   <g id=\"PathCollection_10\">\n    <g clip-path=\"url(#pab969ccf3c)\">\n     <use style=\"fill:#ff0000;stroke:#ff0000;\" x=\"338.884624\" xlink:href=\"#m1c3d8cf265\" y=\"115.603466\"/>\n    </g>\n   </g>\n   <g id=\"PathCollection_11\">\n    <g clip-path=\"url(#pab969ccf3c)\">\n     <use style=\"fill:#ff0000;stroke:#ff0000;\" x=\"338.898554\" xlink:href=\"#m1c3d8cf265\" y=\"115.617356\"/>\n    </g>\n   </g>\n   <g id=\"PathCollection_12\">\n    <g clip-path=\"url(#pab969ccf3c)\">\n     <use style=\"fill:#ff0000;stroke:#ff0000;\" x=\"338.912484\" xlink:href=\"#m1c3d8cf265\" y=\"115.631246\"/>\n    </g>\n   </g>\n   <g id=\"PathCollection_13\">\n    <g clip-path=\"url(#pab969ccf3c)\">\n     <use style=\"fill:#ff0000;stroke:#ff0000;\" x=\"338.926413\" xlink:href=\"#m1c3d8cf265\" y=\"115.645135\"/>\n    </g>\n   </g>\n   <g id=\"PathCollection_14\">\n    <g clip-path=\"url(#pab969ccf3c)\">\n     <use style=\"fill:#ff0000;stroke:#ff0000;\" x=\"338.940343\" xlink:href=\"#m1c3d8cf265\" y=\"115.659025\"/>\n    </g>\n   </g>\n   <g id=\"PathCollection_15\">\n    <g clip-path=\"url(#pab969ccf3c)\">\n     <use style=\"fill:#ff0000;stroke:#ff0000;\" x=\"338.954273\" xlink:href=\"#m1c3d8cf265\" y=\"115.672915\"/>\n    </g>\n   </g>\n   <g id=\"PathCollection_16\">\n    <g clip-path=\"url(#pab969ccf3c)\">\n     <use style=\"fill:#ff0000;stroke:#ff0000;\" x=\"338.968203\" xlink:href=\"#m1c3d8cf265\" y=\"115.686804\"/>\n    </g>\n   </g>\n   <g id=\"PathCollection_17\">\n    <g clip-path=\"url(#pab969ccf3c)\">\n     <use style=\"fill:#ff0000;stroke:#ff0000;\" x=\"338.982133\" xlink:href=\"#m1c3d8cf265\" y=\"115.700694\"/>\n    </g>\n   </g>\n   <g id=\"PathCollection_18\">\n    <g clip-path=\"url(#pab969ccf3c)\">\n     <use style=\"fill:#ff0000;stroke:#ff0000;\" x=\"338.996063\" xlink:href=\"#m1c3d8cf265\" y=\"115.714584\"/>\n    </g>\n   </g>\n   <g id=\"PathCollection_19\">\n    <g clip-path=\"url(#pab969ccf3c)\">\n     <use style=\"fill:#ff0000;stroke:#ff0000;\" x=\"339.009992\" xlink:href=\"#m1c3d8cf265\" y=\"115.728473\"/>\n    </g>\n   </g>\n   <g id=\"PathCollection_20\">\n    <g clip-path=\"url(#pab969ccf3c)\">\n     <use style=\"fill:#ff0000;stroke:#ff0000;\" x=\"278.759939\" xlink:href=\"#m1c3d8cf265\" y=\"115.786692\"/>\n    </g>\n   </g>\n   <g id=\"PathCollection_21\">\n    <g clip-path=\"url(#pab969ccf3c)\">\n     <use style=\"fill:#ff0000;stroke:#ff0000;\" x=\"226.022862\" xlink:href=\"#m1c3d8cf265\" y=\"115.863214\"/>\n    </g>\n   </g>\n   <g id=\"PathCollection_22\">\n    <g clip-path=\"url(#pab969ccf3c)\">\n     <use style=\"fill:#ff0000;stroke:#ff0000;\" x=\"166.024321\" xlink:href=\"#m1c3d8cf265\" y=\"116.093139\"/>\n    </g>\n   </g>\n   <g id=\"PathCollection_23\">\n    <g clip-path=\"url(#pab969ccf3c)\">\n     <use style=\"fill:#ff0000;stroke:#ff0000;\" x=\"113.292053\" xlink:href=\"#m1c3d8cf265\" y=\"116.258328\"/>\n    </g>\n   </g>\n   <g id=\"PathCollection_24\">\n    <g clip-path=\"url(#pab969ccf3c)\">\n     <use style=\"fill:#ff0000;stroke:#ff0000;\" x=\"54.27762\" xlink:href=\"#m1c3d8cf265\" y=\"116.292092\"/>\n    </g>\n   </g>\n   <g id=\"matplotlib.axis_1\">\n    <g id=\"xtick_1\">\n     <g id=\"line2d_1\">\n      <path clip-path=\"url(#pab969ccf3c)\" d=\"M 53.700994 224.64 \nL 53.700994 7.2 \n\" style=\"fill:none;stroke:#b0b0b0;stroke-linecap:square;stroke-width:0.8;\"/>\n     </g>\n     <g id=\"line2d_2\">\n      <defs>\n       <path d=\"M 0 0 \nL 0 3.5 \n\" id=\"meeae968fe6\" style=\"stroke:#000000;stroke-width:0.8;\"/>\n      </defs>\n      <g>\n       <use style=\"stroke:#000000;stroke-width:0.8;\" x=\"53.700994\" xlink:href=\"#meeae968fe6\" y=\"224.64\"/>\n      </g>\n     </g>\n     <g id=\"text_1\">\n      <!-- 0 -->\n      <g transform=\"translate(50.519744 239.238437)scale(0.1 -0.1)\">\n       <defs>\n        <path d=\"M 31.78125 66.40625 \nQ 24.171875 66.40625 20.328125 58.90625 \nQ 16.5 51.421875 16.5 36.375 \nQ 16.5 21.390625 20.328125 13.890625 \nQ 24.171875 6.390625 31.78125 6.390625 \nQ 39.453125 6.390625 43.28125 13.890625 \nQ 47.125 21.390625 47.125 36.375 \nQ 47.125 51.421875 43.28125 58.90625 \nQ 39.453125 66.40625 31.78125 66.40625 \nz\nM 31.78125 74.21875 \nQ 44.046875 74.21875 50.515625 64.515625 \nQ 56.984375 54.828125 56.984375 36.375 \nQ 56.984375 17.96875 50.515625 8.265625 \nQ 44.046875 -1.421875 31.78125 -1.421875 \nQ 19.53125 -1.421875 13.0625 8.265625 \nQ 6.59375 17.96875 6.59375 36.375 \nQ 6.59375 54.828125 13.0625 64.515625 \nQ 19.53125 74.21875 31.78125 74.21875 \nz\n\" id=\"DejaVuSans-48\"/>\n       </defs>\n       <use xlink:href=\"#DejaVuSans-48\"/>\n      </g>\n     </g>\n    </g>\n    <g id=\"xtick_2\">\n     <g id=\"line2d_3\">\n      <path clip-path=\"url(#pab969ccf3c)\" d=\"M 114.573722 224.64 \nL 114.573722 7.2 \n\" style=\"fill:none;stroke:#b0b0b0;stroke-linecap:square;stroke-width:0.8;\"/>\n     </g>\n     <g id=\"line2d_4\">\n      <g>\n       <use style=\"stroke:#000000;stroke-width:0.8;\" x=\"114.573722\" xlink:href=\"#meeae968fe6\" y=\"224.64\"/>\n      </g>\n     </g>\n     <g id=\"text_2\">\n      <!-- 1 -->\n      <g transform=\"translate(111.392472 239.238437)scale(0.1 -0.1)\">\n       <defs>\n        <path d=\"M 12.40625 8.296875 \nL 28.515625 8.296875 \nL 28.515625 63.921875 \nL 10.984375 60.40625 \nL 10.984375 69.390625 \nL 28.421875 72.90625 \nL 38.28125 72.90625 \nL 38.28125 8.296875 \nL 54.390625 8.296875 \nL 54.390625 0 \nL 12.40625 0 \nz\n\" id=\"DejaVuSans-49\"/>\n       </defs>\n       <use xlink:href=\"#DejaVuSans-49\"/>\n      </g>\n     </g>\n    </g>\n    <g id=\"xtick_3\">\n     <g id=\"line2d_5\">\n      <path clip-path=\"url(#pab969ccf3c)\" d=\"M 175.446449 224.64 \nL 175.446449 7.2 \n\" style=\"fill:none;stroke:#b0b0b0;stroke-linecap:square;stroke-width:0.8;\"/>\n     </g>\n     <g id=\"line2d_6\">\n      <g>\n       <use style=\"stroke:#000000;stroke-width:0.8;\" x=\"175.446449\" xlink:href=\"#meeae968fe6\" y=\"224.64\"/>\n      </g>\n     </g>\n     <g id=\"text_3\">\n      <!-- 2 -->\n      <g transform=\"translate(172.265199 239.238437)scale(0.1 -0.1)\">\n       <defs>\n        <path d=\"M 19.1875 8.296875 \nL 53.609375 8.296875 \nL 53.609375 0 \nL 7.328125 0 \nL 7.328125 8.296875 \nQ 12.9375 14.109375 22.625 23.890625 \nQ 32.328125 33.6875 34.8125 36.53125 \nQ 39.546875 41.84375 41.421875 45.53125 \nQ 43.3125 49.21875 43.3125 52.78125 \nQ 43.3125 58.59375 39.234375 62.25 \nQ 35.15625 65.921875 28.609375 65.921875 \nQ 23.96875 65.921875 18.8125 64.3125 \nQ 13.671875 62.703125 7.8125 59.421875 \nL 7.8125 69.390625 \nQ 13.765625 71.78125 18.9375 73 \nQ 24.125 74.21875 28.421875 74.21875 \nQ 39.75 74.21875 46.484375 68.546875 \nQ 53.21875 62.890625 53.21875 53.421875 \nQ 53.21875 48.921875 51.53125 44.890625 \nQ 49.859375 40.875 45.40625 35.40625 \nQ 44.1875 33.984375 37.640625 27.21875 \nQ 31.109375 20.453125 19.1875 8.296875 \nz\n\" id=\"DejaVuSans-50\"/>\n       </defs>\n       <use xlink:href=\"#DejaVuSans-50\"/>\n      </g>\n     </g>\n    </g>\n    <g id=\"xtick_4\">\n     <g id=\"line2d_7\">\n      <path clip-path=\"url(#pab969ccf3c)\" d=\"M 236.319176 224.64 \nL 236.319176 7.2 \n\" style=\"fill:none;stroke:#b0b0b0;stroke-linecap:square;stroke-width:0.8;\"/>\n     </g>\n     <g id=\"line2d_8\">\n      <g>\n       <use style=\"stroke:#000000;stroke-width:0.8;\" x=\"236.319176\" xlink:href=\"#meeae968fe6\" y=\"224.64\"/>\n      </g>\n     </g>\n     <g id=\"text_4\">\n      <!-- 3 -->\n      <g transform=\"translate(233.137926 239.238437)scale(0.1 -0.1)\">\n       <defs>\n        <path d=\"M 40.578125 39.3125 \nQ 47.65625 37.796875 51.625 33 \nQ 55.609375 28.21875 55.609375 21.1875 \nQ 55.609375 10.40625 48.1875 4.484375 \nQ 40.765625 -1.421875 27.09375 -1.421875 \nQ 22.515625 -1.421875 17.65625 -0.515625 \nQ 12.796875 0.390625 7.625 2.203125 \nL 7.625 11.71875 \nQ 11.71875 9.328125 16.59375 8.109375 \nQ 21.484375 6.890625 26.8125 6.890625 \nQ 36.078125 6.890625 40.9375 10.546875 \nQ 45.796875 14.203125 45.796875 21.1875 \nQ 45.796875 27.640625 41.28125 31.265625 \nQ 36.765625 34.90625 28.71875 34.90625 \nL 20.21875 34.90625 \nL 20.21875 43.015625 \nL 29.109375 43.015625 \nQ 36.375 43.015625 40.234375 45.921875 \nQ 44.09375 48.828125 44.09375 54.296875 \nQ 44.09375 59.90625 40.109375 62.90625 \nQ 36.140625 65.921875 28.71875 65.921875 \nQ 24.65625 65.921875 20.015625 65.03125 \nQ 15.375 64.15625 9.8125 62.3125 \nL 9.8125 71.09375 \nQ 15.4375 72.65625 20.34375 73.4375 \nQ 25.25 74.21875 29.59375 74.21875 \nQ 40.828125 74.21875 47.359375 69.109375 \nQ 53.90625 64.015625 53.90625 55.328125 \nQ 53.90625 49.265625 50.4375 45.09375 \nQ 46.96875 40.921875 40.578125 39.3125 \nz\n\" id=\"DejaVuSans-51\"/>\n       </defs>\n       <use xlink:href=\"#DejaVuSans-51\"/>\n      </g>\n     </g>\n    </g>\n    <g id=\"xtick_5\">\n     <g id=\"line2d_9\">\n      <path clip-path=\"url(#pab969ccf3c)\" d=\"M 297.191903 224.64 \nL 297.191903 7.2 \n\" style=\"fill:none;stroke:#b0b0b0;stroke-linecap:square;stroke-width:0.8;\"/>\n     </g>\n     <g id=\"line2d_10\">\n      <g>\n       <use style=\"stroke:#000000;stroke-width:0.8;\" x=\"297.191903\" xlink:href=\"#meeae968fe6\" y=\"224.64\"/>\n      </g>\n     </g>\n     <g id=\"text_5\">\n      <!-- 4 -->\n      <g transform=\"translate(294.010653 239.238437)scale(0.1 -0.1)\">\n       <defs>\n        <path d=\"M 37.796875 64.3125 \nL 12.890625 25.390625 \nL 37.796875 25.390625 \nz\nM 35.203125 72.90625 \nL 47.609375 72.90625 \nL 47.609375 25.390625 \nL 58.015625 25.390625 \nL 58.015625 17.1875 \nL 47.609375 17.1875 \nL 47.609375 0 \nL 37.796875 0 \nL 37.796875 17.1875 \nL 4.890625 17.1875 \nL 4.890625 26.703125 \nz\n\" id=\"DejaVuSans-52\"/>\n       </defs>\n       <use xlink:href=\"#DejaVuSans-52\"/>\n      </g>\n     </g>\n    </g>\n    <g id=\"xtick_6\">\n     <g id=\"line2d_11\">\n      <path clip-path=\"url(#pab969ccf3c)\" d=\"M 358.064631 224.64 \nL 358.064631 7.2 \n\" style=\"fill:none;stroke:#b0b0b0;stroke-linecap:square;stroke-width:0.8;\"/>\n     </g>\n     <g id=\"line2d_12\">\n      <g>\n       <use style=\"stroke:#000000;stroke-width:0.8;\" x=\"358.064631\" xlink:href=\"#meeae968fe6\" y=\"224.64\"/>\n      </g>\n     </g>\n     <g id=\"text_6\">\n      <!-- 5 -->\n      <g transform=\"translate(354.883381 239.238437)scale(0.1 -0.1)\">\n       <defs>\n        <path d=\"M 10.796875 72.90625 \nL 49.515625 72.90625 \nL 49.515625 64.59375 \nL 19.828125 64.59375 \nL 19.828125 46.734375 \nQ 21.96875 47.46875 24.109375 47.828125 \nQ 26.265625 48.1875 28.421875 48.1875 \nQ 40.625 48.1875 47.75 41.5 \nQ 54.890625 34.8125 54.890625 23.390625 \nQ 54.890625 11.625 47.5625 5.09375 \nQ 40.234375 -1.421875 26.90625 -1.421875 \nQ 22.3125 -1.421875 17.546875 -0.640625 \nQ 12.796875 0.140625 7.71875 1.703125 \nL 7.71875 11.625 \nQ 12.109375 9.234375 16.796875 8.0625 \nQ 21.484375 6.890625 26.703125 6.890625 \nQ 35.15625 6.890625 40.078125 11.328125 \nQ 45.015625 15.765625 45.015625 23.390625 \nQ 45.015625 31 40.078125 35.4375 \nQ 35.15625 39.890625 26.703125 39.890625 \nQ 22.75 39.890625 18.8125 39.015625 \nQ 14.890625 38.140625 10.796875 36.28125 \nz\n\" id=\"DejaVuSans-53\"/>\n       </defs>\n       <use xlink:href=\"#DejaVuSans-53\"/>\n      </g>\n     </g>\n    </g>\n   </g>\n   <g id=\"matplotlib.axis_2\">\n    <g id=\"ytick_1\">\n     <g id=\"line2d_13\">\n      <path clip-path=\"url(#pab969ccf3c)\" d=\"M 38.482813 207.598359 \nL 373.282813 207.598359 \n\" style=\"fill:none;stroke:#b0b0b0;stroke-linecap:square;stroke-width:0.8;\"/>\n     </g>\n     <g id=\"line2d_14\">\n      <defs>\n       <path d=\"M 0 0 \nL -3.5 0 \n\" id=\"mba6b4016f6\" style=\"stroke:#000000;stroke-width:0.8;\"/>\n      </defs>\n      <g>\n       <use style=\"stroke:#000000;stroke-width:0.8;\" x=\"38.482813\" xlink:href=\"#mba6b4016f6\" y=\"207.598359\"/>\n      </g>\n     </g>\n     <g id=\"text_7\">\n      <!-- −1.5 -->\n      <g transform=\"translate(7.2 211.397578)scale(0.1 -0.1)\">\n       <defs>\n        <path d=\"M 10.59375 35.5 \nL 73.1875 35.5 \nL 73.1875 27.203125 \nL 10.59375 27.203125 \nz\n\" id=\"DejaVuSans-8722\"/>\n        <path d=\"M 10.6875 12.40625 \nL 21 12.40625 \nL 21 0 \nL 10.6875 0 \nz\n\" id=\"DejaVuSans-46\"/>\n       </defs>\n       <use xlink:href=\"#DejaVuSans-8722\"/>\n       <use x=\"83.789062\" xlink:href=\"#DejaVuSans-49\"/>\n       <use x=\"147.412109\" xlink:href=\"#DejaVuSans-46\"/>\n       <use x=\"179.199219\" xlink:href=\"#DejaVuSans-53\"/>\n      </g>\n     </g>\n    </g>\n    <g id=\"ytick_2\">\n     <g id=\"line2d_15\">\n      <path clip-path=\"url(#pab969ccf3c)\" d=\"M 38.482813 177.161996 \nL 373.282813 177.161996 \n\" style=\"fill:none;stroke:#b0b0b0;stroke-linecap:square;stroke-width:0.8;\"/>\n     </g>\n     <g id=\"line2d_16\">\n      <g>\n       <use style=\"stroke:#000000;stroke-width:0.8;\" x=\"38.482813\" xlink:href=\"#mba6b4016f6\" y=\"177.161996\"/>\n      </g>\n     </g>\n     <g id=\"text_8\">\n      <!-- −1.0 -->\n      <g transform=\"translate(7.2 180.961214)scale(0.1 -0.1)\">\n       <use xlink:href=\"#DejaVuSans-8722\"/>\n       <use x=\"83.789062\" xlink:href=\"#DejaVuSans-49\"/>\n       <use x=\"147.412109\" xlink:href=\"#DejaVuSans-46\"/>\n       <use x=\"179.199219\" xlink:href=\"#DejaVuSans-48\"/>\n      </g>\n     </g>\n    </g>\n    <g id=\"ytick_3\">\n     <g id=\"line2d_17\">\n      <path clip-path=\"url(#pab969ccf3c)\" d=\"M 38.482813 146.725632 \nL 373.282813 146.725632 \n\" style=\"fill:none;stroke:#b0b0b0;stroke-linecap:square;stroke-width:0.8;\"/>\n     </g>\n     <g id=\"line2d_18\">\n      <g>\n       <use style=\"stroke:#000000;stroke-width:0.8;\" x=\"38.482813\" xlink:href=\"#mba6b4016f6\" y=\"146.725632\"/>\n      </g>\n     </g>\n     <g id=\"text_9\">\n      <!-- −0.5 -->\n      <g transform=\"translate(7.2 150.524851)scale(0.1 -0.1)\">\n       <use xlink:href=\"#DejaVuSans-8722\"/>\n       <use x=\"83.789062\" xlink:href=\"#DejaVuSans-48\"/>\n       <use x=\"147.412109\" xlink:href=\"#DejaVuSans-46\"/>\n       <use x=\"179.199219\" xlink:href=\"#DejaVuSans-53\"/>\n      </g>\n     </g>\n    </g>\n    <g id=\"ytick_4\">\n     <g id=\"line2d_19\">\n      <path clip-path=\"url(#pab969ccf3c)\" d=\"M 38.482813 116.289268 \nL 373.282813 116.289268 \n\" style=\"fill:none;stroke:#b0b0b0;stroke-linecap:square;stroke-width:0.8;\"/>\n     </g>\n     <g id=\"line2d_20\">\n      <g>\n       <use style=\"stroke:#000000;stroke-width:0.8;\" x=\"38.482813\" xlink:href=\"#mba6b4016f6\" y=\"116.289268\"/>\n      </g>\n     </g>\n     <g id=\"text_10\">\n      <!-- 0.0 -->\n      <g transform=\"translate(15.579688 120.088487)scale(0.1 -0.1)\">\n       <use xlink:href=\"#DejaVuSans-48\"/>\n       <use x=\"63.623047\" xlink:href=\"#DejaVuSans-46\"/>\n       <use x=\"95.410156\" xlink:href=\"#DejaVuSans-48\"/>\n      </g>\n     </g>\n    </g>\n    <g id=\"ytick_5\">\n     <g id=\"line2d_21\">\n      <path clip-path=\"url(#pab969ccf3c)\" d=\"M 38.482813 85.852905 \nL 373.282813 85.852905 \n\" style=\"fill:none;stroke:#b0b0b0;stroke-linecap:square;stroke-width:0.8;\"/>\n     </g>\n     <g id=\"line2d_22\">\n      <g>\n       <use style=\"stroke:#000000;stroke-width:0.8;\" x=\"38.482813\" xlink:href=\"#mba6b4016f6\" y=\"85.852905\"/>\n      </g>\n     </g>\n     <g id=\"text_11\">\n      <!-- 0.5 -->\n      <g transform=\"translate(15.579688 89.652123)scale(0.1 -0.1)\">\n       <use xlink:href=\"#DejaVuSans-48\"/>\n       <use x=\"63.623047\" xlink:href=\"#DejaVuSans-46\"/>\n       <use x=\"95.410156\" xlink:href=\"#DejaVuSans-53\"/>\n      </g>\n     </g>\n    </g>\n    <g id=\"ytick_6\">\n     <g id=\"line2d_23\">\n      <path clip-path=\"url(#pab969ccf3c)\" d=\"M 38.482813 55.416541 \nL 373.282813 55.416541 \n\" style=\"fill:none;stroke:#b0b0b0;stroke-linecap:square;stroke-width:0.8;\"/>\n     </g>\n     <g id=\"line2d_24\">\n      <g>\n       <use style=\"stroke:#000000;stroke-width:0.8;\" x=\"38.482813\" xlink:href=\"#mba6b4016f6\" y=\"55.416541\"/>\n      </g>\n     </g>\n     <g id=\"text_12\">\n      <!-- 1.0 -->\n      <g transform=\"translate(15.579688 59.21576)scale(0.1 -0.1)\">\n       <use xlink:href=\"#DejaVuSans-49\"/>\n       <use x=\"63.623047\" xlink:href=\"#DejaVuSans-46\"/>\n       <use x=\"95.410156\" xlink:href=\"#DejaVuSans-48\"/>\n      </g>\n     </g>\n    </g>\n    <g id=\"ytick_7\">\n     <g id=\"line2d_25\">\n      <path clip-path=\"url(#pab969ccf3c)\" d=\"M 38.482813 24.980177 \nL 373.282813 24.980177 \n\" style=\"fill:none;stroke:#b0b0b0;stroke-linecap:square;stroke-width:0.8;\"/>\n     </g>\n     <g id=\"line2d_26\">\n      <g>\n       <use style=\"stroke:#000000;stroke-width:0.8;\" x=\"38.482813\" xlink:href=\"#mba6b4016f6\" y=\"24.980177\"/>\n      </g>\n     </g>\n     <g id=\"text_13\">\n      <!-- 1.5 -->\n      <g transform=\"translate(15.579688 28.779396)scale(0.1 -0.1)\">\n       <use xlink:href=\"#DejaVuSans-49\"/>\n       <use x=\"63.623047\" xlink:href=\"#DejaVuSans-46\"/>\n       <use x=\"95.410156\" xlink:href=\"#DejaVuSans-53\"/>\n      </g>\n     </g>\n    </g>\n   </g>\n   <g id=\"line2d_27\">\n    <path clip-path=\"url(#pab969ccf3c)\" d=\"M 53.700994 116.289268 \nL 114.573722 116.289268 \nL 175.446449 116.289268 \nL 236.319176 116.289268 \nL 297.191903 116.289268 \nL 358.064631 116.289268 \nL 358.064631 116.289268 \nL 358.064631 116.289268 \nL 358.064631 116.289268 \nL 358.064631 116.289268 \nL 358.064631 116.289268 \nL 358.064631 116.289268 \nL 358.064631 116.289268 \nL 358.064631 116.289268 \nL 358.064631 116.289268 \nL 358.064631 116.289268 \nL 358.064631 116.289268 \nL 358.064631 116.289268 \nL 358.064631 116.289268 \nL 297.191903 116.289268 \nL 236.319176 116.289268 \nL 175.446449 116.289268 \nL 114.573722 116.289268 \nL 53.700994 116.289268 \n\" style=\"fill:none;stroke:#000000;stroke-linecap:square;stroke-width:1.5;\"/>\n   </g>\n   <g id=\"patch_3\">\n    <path d=\"M 38.482813 224.64 \nL 38.482813 7.2 \n\" style=\"fill:none;stroke:#000000;stroke-linecap:square;stroke-linejoin:miter;stroke-width:0.8;\"/>\n   </g>\n   <g id=\"patch_4\">\n    <path d=\"M 373.282813 224.64 \nL 373.282813 7.2 \n\" style=\"fill:none;stroke:#000000;stroke-linecap:square;stroke-linejoin:miter;stroke-width:0.8;\"/>\n   </g>\n   <g id=\"patch_5\">\n    <path d=\"M 38.482813 224.64 \nL 373.282813 224.64 \n\" style=\"fill:none;stroke:#000000;stroke-linecap:square;stroke-linejoin:miter;stroke-width:0.8;\"/>\n   </g>\n   <g id=\"patch_6\">\n    <path d=\"M 38.482813 7.2 \nL 373.282813 7.2 \n\" style=\"fill:none;stroke:#000000;stroke-linecap:square;stroke-linejoin:miter;stroke-width:0.8;\"/>\n   </g>\n  </g>\n </g>\n <defs>\n  <clipPath id=\"pab969ccf3c\">\n   <rect height=\"217.44\" width=\"334.8\" x=\"38.482813\" y=\"7.2\"/>\n  </clipPath>\n </defs>\n</svg>\n",
      "image/png": "[encoded data removed]"
     },
     "metadata": {
      "needs_background": "light"
     }
    }
   ],
   "source": [
    "plt.figure()\n",
    "plt.plot(gt[:,0], gt[:,1], 'k-',ms=2 )\n",
    "plt.axes().set_aspect(\"equal\",\"datalim\")\n",
    "for p in poses:\n",
    "    print(p[0], p[1])\n",
    "    plt.scatter([p[0]], [p[1]], c= 'r', s=6)\n",
    "# for q in icp_poses:\n",
    "#     plt.scatter([q[0]], [q[1]], c= 'b', s=6)\n",
    "plt.grid()\n",
    "plt.show()"
   ]
  },
  {
   "cell_type": "code",
   "execution_count": null,
   "metadata": {},
   "outputs": [],
   "source": [
    "poses"
   ]
  }
 ]
}